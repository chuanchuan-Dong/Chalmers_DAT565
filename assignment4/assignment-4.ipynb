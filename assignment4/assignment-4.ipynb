{
 "cells": [
  {
   "cell_type": "markdown",
   "metadata": {
    "id": "-sTsDfIVKsmL"
   },
   "source": [
    "# DAT565 Introduction to Data Science and AI \n",
    "## 2023-2024, LP1\n",
    "## Assignment 4: Spam classification using Naïve Bayes \n",
    "This assignment has three obligatory questions. Questions 4-5 are optional and will not be graded.\n",
    "\n",
    "The exercise takes place in this notebook environment where you can chose to use Jupyter or Google Colabs. We recommend you use Google Colabs as it will facilitate remote group-work and makes the assignment less technical. \n",
    "\n",
    "*Tips:* \n",
    "* You can execute certain Linux shell commands by prefixing the command with a `!`. \n",
    "* You can insert Markdown cells and code cells. The first you can use for documenting and explaining your results, the second you can use to write code snippets that execute the tasks required.  \n",
    "\n",
    "In this assignment you will implement a Naïve Bayes classifier in Python that will classify emails into spam and non-spam (“ham”) classes.  Your program should be able to train on a given set of spam and “ham” datasets. \n",
    "\n",
    "You will work with the datasets available at https://spamassassin.apache.org/old/publiccorpus/. There are three types of files in this location: \n",
    "-\teasy-ham: non-spam messages typically quite easy to differentiate from spam messages. \n",
    "-\thard-ham: non-spam messages more difficult to differentiate \n",
    "-\tspam: spam messages \n",
    "\n",
    "**Execute the cell below to download and extract the data into the environment of the notebook -- it will take a few seconds.** \n",
    "\n",
    "If you chose to use Jupyter notebooks you will have to run the commands in the cell below on your local computer. Note that if you are using Windows, you can instead use (7zip)[https://www.7-zip.org/download.html] to decompress the data (you will have to modify the cell below).\n",
    "\n",
    "**What to submit:** \n",
    "* Convert the notebook to a PDF file by compiling it, and submit the PDF file. \n",
    "* Make sure all cells are executed so all your code and its results are included. \n",
    "* Double-check that the PDF displays correctly before you submit it."
   ]
  },
  {
   "cell_type": "code",
   "execution_count": 2,
   "metadata": {
    "id": "Wa37fBwRF-xe"
   },
   "outputs": [
    {
     "name": "stdout",
     "output_type": "stream",
     "text": [
      "--2023-09-21 14:30:35--  https://spamassassin.apache.org/old/publiccorpus/20021010_easy_ham.tar.bz2\n",
      "Resolving spamassassin.apache.org (spamassassin.apache.org)... 2a04:4e42::644, 151.101.2.132\n",
      "Connecting to spamassassin.apache.org (spamassassin.apache.org)|2a04:4e42::644|:443... connected.\n",
      "HTTP request sent, awaiting response... 200 OK\n",
      "Length: 1677144 (1.6M) [application/x-bzip2]\n",
      "Saving to: ‘20021010_easy_ham.tar.bz2’\n",
      "\n",
      "20021010_easy_ham.t 100%[===================>]   1.60M  --.-KB/s    in 0.1s    \n",
      "\n",
      "2023-09-21 14:30:35 (15.9 MB/s) - ‘20021010_easy_ham.tar.bz2’ saved [1677144/1677144]\n",
      "\n",
      "--2023-09-21 14:30:35--  https://spamassassin.apache.org/old/publiccorpus/20021010_hard_ham.tar.bz2\n",
      "Resolving spamassassin.apache.org (spamassassin.apache.org)... 2a04:4e42::644, 151.101.2.132\n",
      "Connecting to spamassassin.apache.org (spamassassin.apache.org)|2a04:4e42::644|:443... connected.\n",
      "HTTP request sent, awaiting response... 200 OK\n",
      "Length: 1021126 (997K) [application/x-bzip2]\n",
      "Saving to: ‘20021010_hard_ham.tar.bz2’\n",
      "\n",
      "20021010_hard_ham.t 100%[===================>] 997.19K  3.27MB/s    in 0.3s    \n",
      "\n",
      "2023-09-21 14:30:36 (3.27 MB/s) - ‘20021010_hard_ham.tar.bz2’ saved [1021126/1021126]\n",
      "\n",
      "--2023-09-21 14:30:36--  https://spamassassin.apache.org/old/publiccorpus/20021010_spam.tar.bz2\n",
      "Resolving spamassassin.apache.org (spamassassin.apache.org)... 2a04:4e42::644, 151.101.2.132\n",
      "Connecting to spamassassin.apache.org (spamassassin.apache.org)|2a04:4e42::644|:443... connected.\n",
      "HTTP request sent, awaiting response... 200 OK\n",
      "Length: 1192582 (1.1M) [application/x-bzip2]\n",
      "Saving to: ‘20021010_spam.tar.bz2’\n",
      "\n",
      "20021010_spam.tar.b 100%[===================>]   1.14M  6.91MB/s    in 0.2s    \n",
      "\n",
      "2023-09-21 14:30:36 (6.91 MB/s) - ‘20021010_spam.tar.bz2’ saved [1192582/1192582]\n",
      "\n"
     ]
    }
   ],
   "source": [
    "# download and extract the data\n",
    "!wget https://spamassassin.apache.org/old/publiccorpus/20021010_easy_ham.tar.bz2\n",
    "!wget https://spamassassin.apache.org/old/publiccorpus/20021010_hard_ham.tar.bz2\n",
    "!wget https://spamassassin.apache.org/old/publiccorpus/20021010_spam.tar.bz2\n",
    "!tar -xjf 20021010_easy_ham.tar.bz2\n",
    "!tar -xjf 20021010_hard_ham.tar.bz2\n",
    "!tar -xjf 20021010_spam.tar.bz2"
   ]
  },
  {
   "cell_type": "markdown",
   "metadata": {
    "id": "tdH1XTepLjZ3"
   },
   "source": [
    "The data is now in the following three folders: `easy_ham`, `hard_ham`, and `spam`. You can confirm this via the following command:"
   ]
  },
  {
   "cell_type": "code",
   "execution_count": 3,
   "metadata": {
    "id": "A53Gw00fBLG2"
   },
   "outputs": [
    {
     "name": "stdout",
     "output_type": "stream",
     "text": [
      "total 7640\n",
      "drwxr-xr-x    10 yuchuan.dong  staff   320B Sep 21 14:30 \u001b[1m\u001b[36m.\u001b[m\u001b[m\n",
      "drwxr-xr-x    11 yuchuan.dong  staff   352B Sep 21 14:24 \u001b[1m\u001b[36m..\u001b[m\u001b[m\n",
      "drwxr-xr-x     3 yuchuan.dong  staff    96B Sep 21 14:25 \u001b[1m\u001b[36m.ipynb_checkpoints\u001b[m\u001b[m\n",
      "-rw-r--r--     1 yuchuan.dong  staff   1.6M Jun 29  2004 20021010_easy_ham.tar.bz2\n",
      "-rw-r--r--     1 yuchuan.dong  staff   997K Dec 16  2004 20021010_hard_ham.tar.bz2\n",
      "-rw-r--r--     1 yuchuan.dong  staff   1.1M Jun 29  2004 20021010_spam.tar.bz2\n",
      "-rw-r--r--@    1 yuchuan.dong  staff   8.5K Sep 21 14:29 assignment-4.ipynb\n",
      "drwx--x--x  2553 yuchuan.dong  staff    80K Oct 10  2002 \u001b[1m\u001b[36measy_ham\u001b[m\u001b[m\n",
      "drwx--x--x   252 yuchuan.dong  staff   7.9K Dec 16  2004 \u001b[1m\u001b[36mhard_ham\u001b[m\u001b[m\n",
      "drwxr-xr-x   503 yuchuan.dong  staff    16K Oct 10  2002 \u001b[1m\u001b[36mspam\u001b[m\u001b[m\n"
     ]
    }
   ],
   "source": [
    "!ls -lah"
   ]
  },
  {
   "cell_type": "markdown",
   "metadata": {
    "id": "DGlWPVnSNzT7"
   },
   "source": [
    "### 1. Preprocessing: \n",
    "Note that the email files contain a lot of extra information, besides the actual message. Ignore that for now and run on the entire text (in the optional part further down, you can experiment with filtering out the headers and footers). \n",
    "1.\tWe don’t want to train and test on the same data (it might help to reflect on **why** ,if you don't recall). Split the spam and ham datasets into a training set and a test set. (`hamtrain`, `spamtrain`, `hamtest`, and `spamtest`). Use `easy_ham` for quesions 1 and 2.\n"
   ]
  },
  {
   "cell_type": "code",
   "execution_count": 1,
   "metadata": {
    "id": "J2sllUWXKblD"
   },
   "outputs": [
    {
     "ename": "NameError",
     "evalue": "name 'os' is not defined",
     "output_type": "error",
     "traceback": [
      "\u001b[0;31m---------------------------------------------------------------------------\u001b[0m",
      "\u001b[0;31mNameError\u001b[0m                                 Traceback (most recent call last)",
      "\u001b[1;32m/Users/yuchuan.dong/Documents/ChalmersStudy/LP1/DAT565/Chalmers_DAT565/assignment4/assignment-4.ipynb Cell 6\u001b[0m line \u001b[0;36m1\n\u001b[1;32m     <a href='vscode-notebook-cell:/Users/yuchuan.dong/Documents/ChalmersStudy/LP1/DAT565/Chalmers_DAT565/assignment4/assignment-4.ipynb#W5sZmlsZQ%3D%3D?line=13'>14</a>\u001b[0m             email\u001b[39m.\u001b[39mappend(email_text)\n\u001b[1;32m     <a href='vscode-notebook-cell:/Users/yuchuan.dong/Documents/ChalmersStudy/LP1/DAT565/Chalmers_DAT565/assignment4/assignment-4.ipynb#W5sZmlsZQ%3D%3D?line=14'>15</a>\u001b[0m     \u001b[39mreturn\u001b[39;00m email\n\u001b[0;32m---> <a href='vscode-notebook-cell:/Users/yuchuan.dong/Documents/ChalmersStudy/LP1/DAT565/Chalmers_DAT565/assignment4/assignment-4.ipynb#W5sZmlsZQ%3D%3D?line=16'>17</a>\u001b[0m EasyHamEmail \u001b[39m=\u001b[39m read_emails(easy_ham_file)\n\u001b[1;32m     <a href='vscode-notebook-cell:/Users/yuchuan.dong/Documents/ChalmersStudy/LP1/DAT565/Chalmers_DAT565/assignment4/assignment-4.ipynb#W5sZmlsZQ%3D%3D?line=17'>18</a>\u001b[0m HardHamEmail \u001b[39m=\u001b[39m read_emails(hard_ham_file)\n\u001b[1;32m     <a href='vscode-notebook-cell:/Users/yuchuan.dong/Documents/ChalmersStudy/LP1/DAT565/Chalmers_DAT565/assignment4/assignment-4.ipynb#W5sZmlsZQ%3D%3D?line=18'>19</a>\u001b[0m SpamEmail \u001b[39m=\u001b[39m read_emails(spam_file)\n",
      "\u001b[1;32m/Users/yuchuan.dong/Documents/ChalmersStudy/LP1/DAT565/Chalmers_DAT565/assignment4/assignment-4.ipynb Cell 6\u001b[0m line \u001b[0;36m1\n\u001b[1;32m      <a href='vscode-notebook-cell:/Users/yuchuan.dong/Documents/ChalmersStudy/LP1/DAT565/Chalmers_DAT565/assignment4/assignment-4.ipynb#W5sZmlsZQ%3D%3D?line=8'>9</a>\u001b[0m \u001b[39mdef\u001b[39;00m \u001b[39mread_emails\u001b[39m(\u001b[39mdir\u001b[39m):\n\u001b[1;32m     <a href='vscode-notebook-cell:/Users/yuchuan.dong/Documents/ChalmersStudy/LP1/DAT565/Chalmers_DAT565/assignment4/assignment-4.ipynb#W5sZmlsZQ%3D%3D?line=9'>10</a>\u001b[0m     email \u001b[39m=\u001b[39m []\n\u001b[0;32m---> <a href='vscode-notebook-cell:/Users/yuchuan.dong/Documents/ChalmersStudy/LP1/DAT565/Chalmers_DAT565/assignment4/assignment-4.ipynb#W5sZmlsZQ%3D%3D?line=10'>11</a>\u001b[0m     \u001b[39mfor\u001b[39;00m filename \u001b[39min\u001b[39;00m os\u001b[39m.\u001b[39mlistdir(\u001b[39mdir\u001b[39m):\n\u001b[1;32m     <a href='vscode-notebook-cell:/Users/yuchuan.dong/Documents/ChalmersStudy/LP1/DAT565/Chalmers_DAT565/assignment4/assignment-4.ipynb#W5sZmlsZQ%3D%3D?line=11'>12</a>\u001b[0m         \u001b[39mwith\u001b[39;00m \u001b[39mopen\u001b[39m(os\u001b[39m.\u001b[39mpath\u001b[39m.\u001b[39mjoin(\u001b[39mdir\u001b[39m, filename), \u001b[39m\"\u001b[39m\u001b[39mr\u001b[39m\u001b[39m\"\u001b[39m, encoding\u001b[39m=\u001b[39m\u001b[39m'\u001b[39m\u001b[39mlatin-1\u001b[39m\u001b[39m'\u001b[39m ) \u001b[39mas\u001b[39;00m file:\n\u001b[1;32m     <a href='vscode-notebook-cell:/Users/yuchuan.dong/Documents/ChalmersStudy/LP1/DAT565/Chalmers_DAT565/assignment4/assignment-4.ipynb#W5sZmlsZQ%3D%3D?line=12'>13</a>\u001b[0m             email_text \u001b[39m=\u001b[39m file\u001b[39m.\u001b[39mread()\n",
      "\u001b[0;31mNameError\u001b[0m: name 'os' is not defined"
     ]
    }
   ],
   "source": [
    "# write your import os\n",
    "import random\n",
    "from sklearn.model_selection import train_test_split\n",
    "\n",
    "easy_ham_file = \"./easy_ham\"\n",
    "hard_ham_file = \"./hard_ham\"\n",
    "spam_file = \"./spam\"\n",
    "\n",
    "def read_emails(dir):\n",
    "    email = []\n",
    "    for filename in os.listdir(dir):\n",
    "        with open(os.path.join(dir, filename), \"r\", encoding='latin-1' ) as file:\n",
    "            email_text = file.read()\n",
    "            email.append(email_text)\n",
    "    return email\n",
    "\n",
    "EasyHamEmail = read_emails(easy_ham_file)\n",
    "HardHamEmail = read_emails(hard_ham_file)\n",
    "SpamEmail = read_emails(spam_file)\n",
    "\n",
    "EasyHam_Train, EasyHam_Test = train_test_split(EasyHamEmail, test_size=0.2, random_state=42)\n",
    "Span_Train, Spam_Test = train_test_split(SpamEmail, test_size=0.2, random_state=42)\n",
    "\n",
    "print(\"Ham Training Set Size:\", len(EasyHam_Train))\n",
    "print(\"Ham Test Set Size:\", len(EasyHam_Test))\n",
    "print(\"Spam Training Set Size:\", len(Span_Train))\n",
    "print(\"Spam Test Set Size:\", len(Spam_Test))\n",
    "\n"
   ]
  },
  {
   "cell_type": "markdown",
   "metadata": {
    "id": "mnbrbI0_OKCF"
   },
   "source": [
    "### 2. Write a Python program that: \n",
    "1.\tUses the four datasets from Question 1 (`hamtrain`, `spamtrain`, `hamtest`, and `spamtest`).\n",
    "2.\tTrains a Naïve Bayes classifier (use the [scikit-learn library](https://scikit-learn.org/stable/)) on `hamtrain` and `spamtrain`, that classifies the test sets and reports True Positive and False Negative rates on the `hamtest` and `spamtest` datasets. You can use `CountVectorizer` ([documentation here](https://scikit-learn.org/stable/modules/generated/sklearn.feature_extraction.text.CountVectorizer.html#sklearn.feature_extraction.text.CountVectorizer)) to transform the email texts into vectors. Please note that there are different types of Naïve Bayes Classifiers available in *scikit-learn* ([Documentation here](https://scikit-learn.org/stable/modules/naive_bayes.html)). Here, you will test two of these classifiers that are well suited for this problem:\n",
    "- Multinomial Naive Bayes\n",
    "- Bernoulli Naive Bayes.\n",
    "\n",
    "Please inspect the documentation to ensure input to the classifiers is appropriate before you start coding. You may have to modify your input."
   ]
  },
  {
   "cell_type": "code",
   "execution_count": null,
   "metadata": {
    "id": "MJERHSCcGNaW"
   },
   "outputs": [],
   "source": [
    "# write your code here"
   ]
  },
  {
   "cell_type": "markdown",
   "metadata": {
    "id": "wDFS3uFFUcS7"
   },
   "source": [
    "### 3. Run on hard ham:\n",
    "Run the two models from Question 2 on `spam` versus `hard-ham`, and compare to the `easy-ham` results."
   ]
  },
  {
   "cell_type": "code",
   "execution_count": null,
   "metadata": {
    "id": "gool_zb8Qzzy"
   },
   "outputs": [],
   "source": [
    "# code to report results here"
   ]
  },
  {
   "cell_type": "markdown",
   "metadata": {
    "id": "TkfQWBB4UhYd"
   },
   "source": [
    "### 4.\tOPTIONAL - NOT MARKED: \n",
    "To avoid classification based on common and uninformative words, it is common practice to filter these out. \n",
    "\n",
    "**a.** Think about why this may be useful. Show a few examples of too common and too uncommon words. \n",
    "\n",
    "**b.** Use the parameters in *scikit-learn*’s `CountVectorizer` to filter out these words. Update the program from Question 2 and run it on `easy-ham` vs `spam` and `hard-ham` vs `spam`. Report your results."
   ]
  },
  {
   "cell_type": "code",
   "execution_count": null,
   "metadata": {
    "id": "qt7ELzEqUfas"
   },
   "outputs": [],
   "source": [
    "# write your code here"
   ]
  },
  {
   "cell_type": "markdown",
   "metadata": {
    "id": "zcyVfOZFU4F_"
   },
   "source": [
    "### 5. OPTIONAL - NOT MARKED: Further improving performance\n",
    "Filter out the headers and footers of the emails before you run on them. The format may vary somewhat between emails, which can make this a bit tricky, so perfect filtering is not required. Run your program again and answer the following questions: \n",
    "- Does the result improve from those obtained in Questions 3 and 4? \n",
    "- What do you expect would happen if your training set consisted mostly of spam messages, while your test set consisted mostly of ham messages, or vice versa? \n",
    "- Look at the `fit_prior` parameter. What does this parameter mean? Discuss in what settings it can be helpful (you can also test your hypothesis). "
   ]
  },
  {
   "cell_type": "code",
   "execution_count": null,
   "metadata": {
    "id": "zkIB6h9k4r07"
   },
   "outputs": [],
   "source": [
    "# write your code here"
   ]
  }
 ],
 "metadata": {
  "colab": {
   "provenance": []
  },
  "kernelspec": {
   "display_name": "Python 3 (ipykernel)",
   "language": "python",
   "name": "python3"
  },
  "language_info": {
   "codemirror_mode": {
    "name": "ipython",
    "version": 3
   },
   "file_extension": ".py",
   "mimetype": "text/x-python",
   "name": "python",
   "nbconvert_exporter": "python",
   "pygments_lexer": "ipython3",
   "version": "3.9.17"
  }
 },
 "nbformat": 4,
 "nbformat_minor": 4
}
